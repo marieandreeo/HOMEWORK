{
 "cells": [
  {
   "cell_type": "code",
   "execution_count": null,
   "metadata": {},
   "outputs": [],
   "source": [
    "import Pkg\n",
    "Pkg.activate(\".\")\n",
    "\n",
    "using Distributions\n",
    "\n",
    "distribution_r = Normal(0.9, 0.1) # ~0.7 -> 1.1\n",
    "\n",
    "r = rand(distribution_r)\n",
    "\n",
    "function logistic_growth(n::Float64, r::Float64)\n",
    "    return (n+(r*n*(1-n))\n",
    "end\n",
    "\n",
    "pop_size = zeros(Float64, 50)\n",
    "pop_size[1] = 0.1\n",
    "\n",
    "\n",
    "for i in 2:length(pop_size)\n",
    "    pop_size[i] = logistic_growth(pop_size[i-1], r)\n",
    "end\n",
    "\n"
   ]
  },
  {
   "cell_type": "code",
   "execution_count": null,
   "metadata": {},
   "outputs": [],
   "source": []
  }
 ],
 "metadata": {
  "kernelspec": {
   "display_name": "Julia 1.2.0",
   "language": "julia",
   "name": "julia-1.2"
  }
 },
 "nbformat": 4,
 "nbformat_minor": 2
}

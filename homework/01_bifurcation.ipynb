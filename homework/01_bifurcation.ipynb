{
 "cells": [
  {
   "cell_type": "markdown",
   "metadata": {},
   "source": [
    "---\n",
    "title: Bifurcation diagram\n",
    "permalink: bifurcation/\n",
    "layout: page\n",
    "---\n",
    "\n",
    "# Introduction\n",
    "\n",
    "> Starting from the logistic model of growth with competition, you will (i)\n",
    "> propose an analysis to show how we can find a vaalue of the growth rate *r*\n",
    "> after which the population cannot persist (this will involve finding the\n",
    "> maximum of a function, and then iterating this function enough times from this\n",
    "> maximum), and (ii) plot the bifurcation diagram of the logistic model to show\n",
    "> that there is indeed a maximal growth rate after which the system becomes\n",
    "> unstable. Please note that you should not attempt to calculate this value by\n",
    "> hand, but you may attempt to guess it based on the results of the second step.\n",
    "\n",
    "## Required packages\n",
    "\n",
    "```julia\n",
    "using Plots\n",
    "```\n",
    "\n",
    "## Model description and justification\n",
    "\n",
    "<!-- Use this model, it assumes that K = 1, making the system dimensionless -->\n",
    "\n",
    "$$n(t+1) = n(t) + r\\times n(t)\\times \\left(1-n(t)\\right)$$\n",
    "\n",
    "## Model analysis\n",
    "\n",
    "Testing deployment\n",
    "\n",
    "## Simulations\n",
    "\n",
    "## Conclusions"
   ]
  },
  {
   "cell_type": "code",
   "execution_count": null,
   "metadata": {},
   "outputs": [],
   "source": [
    "using Plots"
   ]
  }
 ],
 "metadata": {
  "kernelspec": {
   "display_name": "Julia 1.2.0",
   "language": "julia",
   "name": "julia-1.2"
  },
  "language_info": {
   "file_extension": ".jl",
   "mimetype": "application/julia",
   "name": "julia",
   "version": "1.2.0"
  }
 },
 "nbformat": 4,
 "nbformat_minor": 2
}
